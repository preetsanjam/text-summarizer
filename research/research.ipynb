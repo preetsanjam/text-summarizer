{
 "cells": [
  {
   "cell_type": "code",
   "execution_count": null,
   "id": "272fca20",
   "metadata": {},
   "outputs": [
    {
     "data": {
      "text/plain": [
       "'Sanjam'"
      ]
     },
     "execution_count": 2,
     "metadata": {},
     "output_type": "execute_result"
    }
   ],
   "source": [
    "dict_info={\"name\" : \"Sanjam\", \"lastname\" : \"Preet\"}\n",
    "\n",
    "dict_info[\"name\"]"
   ]
  },
  {
   "cell_type": "code",
   "execution_count": 10,
   "id": "d4a1e49a",
   "metadata": {},
   "outputs": [],
   "source": [
    "# dict_info.name \n",
    "# AttributeError: 'dict' object has no attribute 'name'"
   ]
  },
  {
   "cell_type": "markdown",
   "id": "764d060c",
   "metadata": {},
   "source": [
    "### Remarks:\n",
    "We are trying to access an attribute called `name` — but `dict` objects do not support dot notation (`.`) for accessing keys."
   ]
  },
  {
   "cell_type": "code",
   "execution_count": 4,
   "id": "b3689c0a",
   "metadata": {},
   "outputs": [
    {
     "data": {
      "text/plain": [
       "'Sanjam'"
      ]
     },
     "execution_count": 4,
     "metadata": {},
     "output_type": "execute_result"
    }
   ],
   "source": [
    "from box import ConfigBox\n",
    "dict_info=ConfigBox({\"name\" : \"Sanjam\", \"lastname\" : \"Preet\"})\n",
    "dict_info.name"
   ]
  },
  {
   "cell_type": "markdown",
   "id": "e5cbb6a6",
   "metadata": {},
   "source": [
    "Remarks: All YAML files are in key-value pairs."
   ]
  },
  {
   "cell_type": "code",
   "execution_count": 5,
   "id": "c25c13cd",
   "metadata": {},
   "outputs": [],
   "source": [
    "def multiplication(x:int, y:int) -> int:\n",
    "    return x*y"
   ]
  },
  {
   "cell_type": "code",
   "execution_count": 6,
   "id": "8235bd86",
   "metadata": {},
   "outputs": [
    {
     "data": {
      "text/plain": [
       "6"
      ]
     },
     "execution_count": 6,
     "metadata": {},
     "output_type": "execute_result"
    }
   ],
   "source": [
    "multiplication(2,3)"
   ]
  },
  {
   "cell_type": "code",
   "execution_count": null,
   "id": "21f305c4",
   "metadata": {},
   "outputs": [
    {
     "data": {
      "text/plain": [
       "'33'"
      ]
     },
     "execution_count": 7,
     "metadata": {},
     "output_type": "execute_result"
    }
   ],
   "source": [
    "multiplication(2,\"3\") # Returns '33' because arguments are read as 2 * \"3\""
   ]
  },
  {
   "cell_type": "code",
   "execution_count": null,
   "id": "abce47db",
   "metadata": {},
   "outputs": [],
   "source": [
    "from ensure import ensure_annotations\n",
    "\n",
    "@ensure_annotations\n",
    "def multiplication(x:int, y:int) -> int:\n",
    "    return x*y\n",
    "\n",
    "# multiplication(2,\"3\") Throws an error\n",
    "# EnsureError: Argument y of type <class 'str'> ... does not match annotation type <class 'int'>"
   ]
  },
  {
   "cell_type": "markdown",
   "id": "7bf9fe27",
   "metadata": {},
   "source": [
    "### Remarks:\n",
    "The reason we use the `@ensure_annotations` decorator is to ensure that the inputs provided to a function are of the correct data types. If the types do not match the annotations, it will raise an error"
   ]
  },
  {
   "cell_type": "code",
   "execution_count": null,
   "id": "6ada521e",
   "metadata": {},
   "outputs": [],
   "source": []
  }
 ],
 "metadata": {
  "kernelspec": {
   "display_name": "venv",
   "language": "python",
   "name": "python3"
  },
  "language_info": {
   "codemirror_mode": {
    "name": "ipython",
    "version": 3
   },
   "file_extension": ".py",
   "mimetype": "text/x-python",
   "name": "python",
   "nbconvert_exporter": "python",
   "pygments_lexer": "ipython3",
   "version": "3.10.0"
  }
 },
 "nbformat": 4,
 "nbformat_minor": 5
}
